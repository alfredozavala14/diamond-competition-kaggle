{
 "cells": [
  {
   "cell_type": "markdown",
   "id": "distributed-bandwidth",
   "metadata": {
    "toc": true
   },
   "source": [
    "<h1>Table of Contents<span class=\"tocSkip\"></span></h1>\n",
    "<div class=\"toc\"><ul class=\"toc-item\"><li><span><a href=\"#Intro\" data-toc-modified-id=\"Intro-1\"><span class=\"toc-item-num\">1&nbsp;&nbsp;</span>Intro</a></span></li><li><span><a href=\"#Importing-libraries-and-data\" data-toc-modified-id=\"Importing-libraries-and-data-2\"><span class=\"toc-item-num\">2&nbsp;&nbsp;</span>Importing libraries and data</a></span></li><li><span><a href=\"#Prep-data-for-submission\" data-toc-modified-id=\"Prep-data-for-submission-3\"><span class=\"toc-item-num\">3&nbsp;&nbsp;</span>Prep data for submission</a></span><ul class=\"toc-item\"><li><span><a href=\"#Random-forest\" data-toc-modified-id=\"Random-forest-3.1\"><span class=\"toc-item-num\">3.1&nbsp;&nbsp;</span>Random forest</a></span></li><li><span><a href=\"#Gradient-boosting\" data-toc-modified-id=\"Gradient-boosting-3.2\"><span class=\"toc-item-num\">3.2&nbsp;&nbsp;</span>Gradient boosting</a></span></li></ul></li></ul></div>"
   ]
  },
  {
   "cell_type": "markdown",
   "id": "advance-tampa",
   "metadata": {},
   "source": [
    "## Intro"
   ]
  },
  {
   "cell_type": "markdown",
   "id": "three-radiation",
   "metadata": {},
   "source": [
    "Once the models are defined, we have to prepare the data to be uploaded to kaggle"
   ]
  },
  {
   "cell_type": "markdown",
   "id": "voluntary-oasis",
   "metadata": {},
   "source": [
    "## Importing libraries and data"
   ]
  },
  {
   "cell_type": "code",
   "execution_count": 2,
   "id": "intended-maple",
   "metadata": {},
   "outputs": [],
   "source": [
    "import pandas as pd\n",
    "from sklearn.pipeline import Pipeline\n",
    "from sklearn.preprocessing import StandardScaler, Normalizer\n",
    "from sklearn.model_selection import train_test_split, GridSearchCV, cross_val_score\n",
    "from sklearn.metrics import mean_squared_error, make_scorer\n",
    "from sklearn.linear_model import LinearRegression\n",
    "from sklearn.ensemble import RandomForestRegressor, GradientBoostingRegressor"
   ]
  },
  {
   "cell_type": "code",
   "execution_count": 3,
   "id": "british-turner",
   "metadata": {},
   "outputs": [],
   "source": [
    "df_train = pd.read_csv(\"../data/clean_train_01.csv\", index_col = 0)\n",
    "df_test = pd.read_csv(\"../data/clean_test_01.csv\", index_col = 0) "
   ]
  },
  {
   "cell_type": "code",
   "execution_count": 4,
   "id": "dutch-chaos",
   "metadata": {},
   "outputs": [],
   "source": [
    "import sys\n",
    "\n",
    "sys.path.append('../src')\n",
    "\n",
    "from diamond_comp_functions import diamond_submission"
   ]
  },
  {
   "cell_type": "markdown",
   "id": "signal-moisture",
   "metadata": {},
   "source": [
    "## Prep data for submission"
   ]
  },
  {
   "cell_type": "code",
   "execution_count": 6,
   "id": "internal-emergency",
   "metadata": {},
   "outputs": [],
   "source": [
    "# select predictor and results\n",
    "X = df_train.drop(\"price\", axis = 1)\n",
    "y = df_train.price"
   ]
  },
  {
   "cell_type": "markdown",
   "id": "israeli-witness",
   "metadata": {},
   "source": [
    "### Random forest"
   ]
  },
  {
   "cell_type": "code",
   "execution_count": 8,
   "id": "attempted-genealogy",
   "metadata": {},
   "outputs": [
    {
     "data": {
      "text/plain": [
       "'rf_df.csv has been created in ../data/'"
      ]
     },
     "execution_count": 8,
     "metadata": {},
     "output_type": "execute_result"
    }
   ],
   "source": [
    "rf = RandomForestRegressor(n_estimators=100, max_depth=None, max_features='auto')\n",
    "\n",
    "diamond_submission(rf, X, y, df_test, \"rf_df\")"
   ]
  },
  {
   "cell_type": "markdown",
   "id": "dependent-throw",
   "metadata": {},
   "source": [
    "### Gradient boosting"
   ]
  },
  {
   "cell_type": "code",
   "execution_count": 7,
   "id": "funded-messenger",
   "metadata": {},
   "outputs": [
    {
     "data": {
      "text/plain": [
       "'gb_df.csv has been created in ../data/'"
      ]
     },
     "execution_count": 7,
     "metadata": {},
     "output_type": "execute_result"
    }
   ],
   "source": [
    "gb = GradientBoostingRegressor(n_estimators=100, max_depth=None, max_features='auto')\n",
    "\n",
    "diamond_submission(gb, X, y, df_test, \"gb_df\")"
   ]
  },
  {
   "cell_type": "code",
   "execution_count": null,
   "id": "settled-smile",
   "metadata": {},
   "outputs": [],
   "source": []
  }
 ],
 "metadata": {
  "kernelspec": {
   "display_name": "Python 3",
   "language": "python",
   "name": "python3"
  },
  "language_info": {
   "codemirror_mode": {
    "name": "ipython",
    "version": 3
   },
   "file_extension": ".py",
   "mimetype": "text/x-python",
   "name": "python",
   "nbconvert_exporter": "python",
   "pygments_lexer": "ipython3",
   "version": "3.8.5"
  },
  "toc": {
   "base_numbering": 1,
   "nav_menu": {},
   "number_sections": true,
   "sideBar": true,
   "skip_h1_title": true,
   "title_cell": "Table of Contents",
   "title_sidebar": "Contents",
   "toc_cell": true,
   "toc_position": {},
   "toc_section_display": true,
   "toc_window_display": false
  },
  "varInspector": {
   "cols": {
    "lenName": 16,
    "lenType": 16,
    "lenVar": 40
   },
   "kernels_config": {
    "python": {
     "delete_cmd_postfix": "",
     "delete_cmd_prefix": "del ",
     "library": "var_list.py",
     "varRefreshCmd": "print(var_dic_list())"
    },
    "r": {
     "delete_cmd_postfix": ") ",
     "delete_cmd_prefix": "rm(",
     "library": "var_list.r",
     "varRefreshCmd": "cat(var_dic_list()) "
    }
   },
   "types_to_exclude": [
    "module",
    "function",
    "builtin_function_or_method",
    "instance",
    "_Feature"
   ],
   "window_display": false
  }
 },
 "nbformat": 4,
 "nbformat_minor": 5
}
